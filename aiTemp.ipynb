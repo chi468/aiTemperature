{
  "nbformat": 4,
  "nbformat_minor": 0,
  "metadata": {
    "colab": {
      "name": "aiTemp",
      "provenance": [],
      "collapsed_sections": [],
      "include_colab_link": true
    },
    "kernelspec": {
      "name": "python3",
      "display_name": "Python 3"
    },
    "accelerator": "GPU"
  },
  "cells": [
    {
      "cell_type": "markdown",
      "metadata": {
        "id": "view-in-github",
        "colab_type": "text"
      },
      "source": [
        "<a href=\"https://colab.research.google.com/github/chi468/aiTemperature/blob/master/aiTemp.ipynb\" target=\"_parent\"><img src=\"https://colab.research.google.com/assets/colab-badge.svg\" alt=\"Open In Colab\"/></a>"
      ]
    },
    {
      "cell_type": "code",
      "metadata": {
        "id": "Yna9k7Mr1zAT",
        "colab_type": "code",
        "colab": {}
      },
      "source": [
        "\n",
        "  # 커널 행렬에 L1 규제가 적용된 선형 활성화 층. 하이퍼파라미터 0.01은 규제의 양을 조절합니다:\n",
        "  #tf.keras.layers.Dense(16, kernel_regularizer=tf.keras.regularizers.l1(0.01)),\n",
        "\n",
        "  # 절편 벡터에 L2 규제가 적용된 선형 활성화 층. 하이퍼파라미터 0.01은 규제의 양을 조절합니다:\n",
        "  #tf.keras.layers.Dense(16, bias_regularizer=tf.keras.regularizers.l2(0.01)),\n",
        "\n",
        "  # 시그모이드 활성화 층을 만듭니다:\n",
        "  #tr.keras.layers.Dense(1, activation='sigmoid'),\n",
        "\n",
        "  #simple_lstm_model.compile(optimizer='adam', loss='mse')\n"
      ],
      "execution_count": 0,
      "outputs": []
    },
    {
      "cell_type": "code",
      "metadata": {
        "colab_type": "code",
        "outputId": "f67f890f-427a-4077-dec2-011c886f9a0c",
        "id": "pNy1oDH7IKQr",
        "colab": {
          "base_uri": "https://localhost:8080/",
          "height": 54
        }
      },
      "source": [
        "\"\"\"\n",
        "dataX = sequence\n",
        "dataY = target\n",
        "data_dim = 40\n",
        "\n",
        "train_size = int(len(dataY) * 0.7)\n",
        "test_size = len(dataY) - train_size\n",
        "trainX = np.array(dataX[0:train_size]) ,\n",
        "testX = np.array(dataX[train_size:len(dataX)])\n",
        "trainY = np.array(dataY[0:train_size])\n",
        "testY = np.array(dataY[train_size:len(dataY)])\n",
        "\n",
        "X = tf.Variable(tf.zeros(shape = (None,seq_length,data_dim)),dtype=float32)\n",
        "Y = tf.Variable(tf.zeros(shape=(None,1)),dtype=float32)\n",
        "\"\"\""
      ],
      "execution_count": 0,
      "outputs": [
        {
          "output_type": "execute_result",
          "data": {
            "text/plain": [
              "'\\ndataX = sequence\\ndataY = target\\ndata_dim = 40\\n\\ntrain_size = int(len(dataY) * 0.7)\\ntest_size = len(dataY) - train_size\\ntrainX = np.array(dataX[0:train_size]) ,\\ntestX = np.array(dataX[train_size:len(dataX)])\\ntrainY = np.array(dataY[0:train_size])\\ntestY = np.array(dataY[train_size:len(dataY)])\\n\\nX = tf.Variable(tf.zeros(shape = (None,seq_length,data_dim)),dtype=float32)\\nY = tf.Variable(tf.zeros(shape=(None,1)),dtype=float32)\\n'"
            ]
          },
          "metadata": {
            "tags": []
          },
          "execution_count": 1
        }
      ]
    },
    {
      "cell_type": "code",
      "metadata": {
        "id": "mIUuytvVjeg_",
        "colab_type": "code",
        "outputId": "1a924688-b155-49d4-990e-88c6d8938325",
        "colab": {
          "base_uri": "https://localhost:8080/",
          "height": 54
        }
      },
      "source": [
        "\"\"\"\n",
        "acc = tf.keras.metrics.Accuracy(\n",
        "    name='accuracy', dtype=None\n",
        ")\n",
        "\n",
        "y00_pred = y00_pred.flatten()\n",
        "testY = np.array(testY)\n",
        "print(y00_pred)\n",
        "print(testY)\n",
        "\n",
        "plt.figure(figsize=(15,10))\n",
        "plt.plot(y00_pred)\n",
        "plt.plot(testY)\n",
        "plt.legend(['pred','test'])\n",
        "\n",
        "print(cal_res(y00_pred,testY))\n",
        "\"\"\""
      ],
      "execution_count": 0,
      "outputs": [
        {
          "output_type": "execute_result",
          "data": {
            "text/plain": [
              "\"\\nacc = tf.keras.metrics.Accuracy(\\n    name='accuracy', dtype=None\\n)\\n\\ny00_pred = y00_pred.flatten()\\ntestY = np.array(testY)\\nprint(y00_pred)\\nprint(testY)\\n\\nplt.figure(figsize=(15,10))\\nplt.plot(y00_pred)\\nplt.plot(testY)\\nplt.legend(['pred','test'])\\n\\nprint(cal_res(y00_pred,testY))\\n\""
            ]
          },
          "metadata": {
            "tags": []
          },
          "execution_count": 2
        }
      ]
    },
    {
      "cell_type": "code",
      "metadata": {
        "id": "qA2J5M3qqPsb",
        "colab_type": "code",
        "colab": {}
      },
      "source": [
        "#!pip install tensorflow==2.0.0-rc1\n",
        "#!pip install -q tensorflow-gpu==2.0.0-rc1"
      ],
      "execution_count": 0,
      "outputs": []
    },
    {
      "cell_type": "code",
      "metadata": {
        "id": "ohJYkqNYqFVO",
        "colab_type": "code",
        "colab": {}
      },
      "source": [
        "#print(tf.__version__)\n",
        "#print(tf.test.is_gpu_available())"
      ],
      "execution_count": 0,
      "outputs": []
    },
    {
      "cell_type": "code",
      "metadata": {
        "id": "_LlO7oEptE-v",
        "colab_type": "code",
        "colab": {}
      },
      "source": [
        "#%matplotlib inline\n",
        "#import seaborn as sns #시각화 2\n",
        "#from IPython.core.display import display, HTML   #노트북 화면이 작은 당신을 위한 코드\n",
        "#display(HTML(\">\"))"
      ],
      "execution_count": 0,
      "outputs": []
    },
    {
      "cell_type": "code",
      "metadata": {
        "id": "Ung46fRhvuuQ",
        "colab_type": "code",
        "colab": {}
      },
      "source": [
        " #DIR_DATA = \"/content/gdrive/My Drive/aiTemp/\"\n",
        " #DIR_TRAIN = DIR_DATA + \"train.csv\"\n",
        " #DIR_TEST = DIR_DATA + \"test.csv\"\n",
        " #DIR_SUB = DIR_DATA + \"sample_submission.csv\"\n",
        "\n",
        "# train = pd.read_csv(DIR_TRAIN)\n",
        "# test = pd.read_csv(DIR_TEST)\n",
        "# sub = pd.read_csv(DIR_SUB)"
      ],
      "execution_count": 0,
      "outputs": []
    },
    {
      "cell_type": "code",
      "metadata": {
        "id": "Iz_cXTcbpQqW",
        "colab_type": "code",
        "colab": {}
      },
      "source": [
        "import pandas as pd\n",
        "import numpy as np\n",
        "from tqdm import tqdm\n",
        "import random\n",
        "import tensorflow as tf\n",
        "import matplotlib.pyplot as plt\n",
        "import os"
      ],
      "execution_count": 0,
      "outputs": []
    },
    {
      "cell_type": "code",
      "metadata": {
        "id": "MjhIwH0coUYv",
        "colab_type": "code",
        "colab": {}
      },
      "source": [
        "  from google.colab import files\n",
        "  #files.upload()"
      ],
      "execution_count": 0,
      "outputs": []
    },
    {
      "cell_type": "code",
      "metadata": {
        "id": "9x1OVtnI1-3_",
        "colab_type": "code",
        "colab": {}
      },
      "source": [
        "train = pd.read_csv('train.csv')\n",
        "test = pd.read_csv('test.csv')"
      ],
      "execution_count": 0,
      "outputs": []
    },
    {
      "cell_type": "code",
      "metadata": {
        "id": "hcR50uep44OX",
        "colab_type": "code",
        "colab": {}
      },
      "source": [
        "temperature_name = [\"X00\",\"X07\",\"X28\",\"X31\",\"X32\"] #기온\n",
        "localpress_name  = [\"X01\",\"X06\",\"X22\",\"X27\",\"X29\"] #현지기압\n",
        "speed_name       = [\"X02\",\"X03\",\"X18\",\"X24\",\"X26\"] #풍속\n",
        "water_name       = [\"X04\",\"X10\",\"X21\",\"X36\",\"X39\"] #일일 누적강수량\n",
        "press_name       = [\"X05\",\"X08\",\"X09\",\"X23\",\"X33\"] #해면기압\n",
        "sun_name         = [\"X11\",\"X14\",\"X16\",\"X19\",\"X34\"] #일일 누적일사량\n",
        "humidity_name    = [\"X12\",\"X20\",\"X30\",\"X37\",\"X38\"] #습도\n",
        "direction_name   = [\"X13\",\"X15\",\"X17\",\"X25\",\"X35\"] #풍향"
      ],
      "execution_count": 0,
      "outputs": []
    },
    {
      "cell_type": "code",
      "metadata": {
        "id": "PsSfxiU3-huK",
        "colab_type": "code",
        "colab": {}
      },
      "source": [
        "# 기상청 데이터만 추출\n",
        "\n",
        "#X14,X16,X19 제외\n",
        "\n",
        "#X_train = train.loc[:,'X00':'X39']\n",
        "#X_train = X_train.drop(['X14','X16','X19','X39'],axis=1)\n",
        "\n",
        "req_x=['X00','X27','X24','X39','X33','X34','X12','X25']\n",
        "X_train = train.loc[:,req_x]\n",
        "test = test.loc[:,req_x]\n",
        "y_columns = ['Y16']\n",
        "\n",
        "X_trainLen = X_train.shape[1]\n",
        "\n",
        "# standardization을 위해 평균과 표준편차 구하기\n",
        "MEAN = X_train.mean()\n",
        "STD = X_train.std()\n",
        "\n",
        "# 표준편차가 0일 경우 대비하여 1e-07 추가\n",
        "X_train = (X_train - MEAN) / (STD + 1e-07)"
      ],
      "execution_count": 0,
      "outputs": []
    },
    {
      "cell_type": "code",
      "metadata": {
        "id": "ajiz57ay58Ej",
        "colab_type": "code",
        "colab": {}
      },
      "source": [
        "# RNN 모델에 입력 할 수 있는 시계열 형태로 데이터 변환 \n",
        "def convert_to_timeseries(df, interval):\n",
        "    sequence_list = []\n",
        "    target_list = []\n",
        "    \n",
        "    for i in tqdm(range(df.shape[0] - interval)):\n",
        "        sequence_list.append(np.array(df.iloc[i:i+interval,:-1]))\n",
        "        target_list.append(df.iloc[i+interval,-1])\n",
        "    \n",
        "    sequence = np.array(sequence_list)\n",
        "    target = np.array(target_list)\n",
        "    \n",
        "    return sequence, target"
      ],
      "execution_count": 0,
      "outputs": []
    },
    {
      "cell_type": "code",
      "metadata": {
        "id": "P1GUqmxZ5_nh",
        "colab_type": "code",
        "outputId": "cf9c078c-d2a3-4641-e598-230cb9b3745d",
        "colab": {
          "base_uri": "https://localhost:8080/",
          "height": 34
        }
      },
      "source": [
        "# t시점 이전 120분의 데이터로 t시점의 온도를 추정할 수 있는 학습데이터 형성\n",
        "interval = 12;\n",
        "#sequence = []\n",
        "#for _ in range(17):\n",
        "  #sequence.append(np.empty((0, interval, X_train.shape[1])))\n",
        "\n",
        "\n",
        "# t시점 이전 120분의 데이터로 t시점의 온도를 추정할 수 있는 학습데이터 형성\n",
        "sequence = np.empty((0, interval, X_train.shape[1]))\n",
        "target = np.empty((0,))\n",
        "for column in y_columns :\n",
        "    \n",
        "    concat = pd.concat([X_train, train[column]], axis = 1)\n",
        "\n",
        "    _sequence, _target = convert_to_timeseries(concat.head(144*30), interval = 12)\n",
        "\n",
        "    sequence = np.vstack((sequence, _sequence))\n",
        "    target = np.hstack((target, _target))\n"
      ],
      "execution_count": 0,
      "outputs": [
        {
          "output_type": "stream",
          "text": [
            "100%|██████████| 4308/4308 [00:01<00:00, 3118.45it/s]\n"
          ],
          "name": "stderr"
        }
      ]
    },
    {
      "cell_type": "code",
      "metadata": {
        "id": "s2k5_FrdsS-4",
        "colab_type": "code",
        "outputId": "52e52765-2d6f-483c-bc85-7ffdbf97e6a2",
        "colab": {
          "base_uri": "https://localhost:8080/",
          "height": 34
        }
      },
      "source": [
        "from keras import backend as K\n",
        "\n",
        "#손실함수 4제곱으로 직접 정의\n",
        "def msse(y_pred, y_true):\n",
        "    loss = K.mean((y_true-y_pred)**4)\n",
        " \n",
        "    return loss"
      ],
      "execution_count": 0,
      "outputs": [
        {
          "output_type": "stream",
          "text": [
            "Using TensorFlow backend.\n"
          ],
          "name": "stderr"
        }
      ]
    },
    {
      "cell_type": "code",
      "metadata": {
        "id": "q-Pr6IzBhbl7",
        "colab_type": "code",
        "colab": {}
      },
      "source": [
        "# 간단한 lstm 모델 구축하기\n",
        "simple_lstm_model = tf.keras.models.Sequential([\n",
        "  tf.keras.layers.LSTM(128, input_shape=sequence.shape[-2:]),\n",
        "\n",
        "  tf.keras.layers.Dense(128, activation='linear'),\n",
        "  \n",
        "  tf.keras.layers.Dense(1)\n",
        "\n",
        "])\n",
        "\n",
        "\n",
        "simple_lstm_model.compile(optimizer='adam', loss='mse')"
      ],
      "execution_count": 0,
      "outputs": []
    },
    {
      "cell_type": "code",
      "metadata": {
        "id": "Ky3le3dPhey6",
        "colab_type": "code",
        "colab": {}
      },
      "source": [
        "# loss가 4미만으로 떨어지면 학습 종료 시키는 기능\n",
        "class myCallback(tf.keras.callbacks.Callback):\n",
        "    def on_epoch_end(self, epoch, logs = None):\n",
        "        if(logs.get('loss') < 0.25):\n",
        "            print('\\n Loss is under 0.25, cancelling training')\n",
        "            self.model.stop_training = True"
      ],
      "execution_count": 0,
      "outputs": []
    },
    {
      "cell_type": "code",
      "metadata": {
        "id": "XEotd81shhCC",
        "colab_type": "code",
        "colab": {}
      },
      "source": [
        "callbacks = myCallback()"
      ],
      "execution_count": 0,
      "outputs": []
    },
    {
      "cell_type": "code",
      "metadata": {
        "id": "UAyu13L1i0OZ",
        "colab_type": "code",
        "colab": {}
      },
      "source": [
        "\"\"\"\n",
        "dataX = sequence\n",
        "dataY = target\n",
        "data_dim = X_trainLen\n",
        "\n",
        "train_size = int(len(dataY))\n",
        "output_size = 3 * 144\n",
        "trainX = np.array(dataX[0:train_size])\n",
        "trainY = np.array(dataY[0:train_size])\n",
        "\"\"\"\n",
        "\n",
        "dataX = sequence\n",
        "dataY = target\n",
        "data_dim = X_trainLen\n",
        "\n",
        "train_size = int(len(dataY)*0.8)\n",
        "test_size = len(dataY) - train_size\n",
        "trainX = np.array(dataX[0:train_size]) ,\n",
        "testX = np.array(dataX[train_size:len(dataX)])\n",
        "trainY = np.array(dataY[0:train_size])\n",
        "testY = np.array(dataY[train_size:len(dataY)])\n"
      ],
      "execution_count": 0,
      "outputs": []
    },
    {
      "cell_type": "code",
      "metadata": {
        "id": "-WPGzS0Ohiwt",
        "colab_type": "code",
        "outputId": "9c417c8f-db4b-4fce-9b80-f012482c573b",
        "colab": {
          "base_uri": "https://localhost:8080/",
          "height": 34
        }
      },
      "source": [
        "# 모델 학습\n",
        "simple_lstm_model.fit(    \n",
        "    sequence, target,\n",
        "    epochs=100,\n",
        "    batch_size=128,\n",
        "    verbose=0,\n",
        "    shuffle=False,\n",
        "    callbacks = [callbacks]\n",
        ")"
      ],
      "execution_count": 0,
      "outputs": [
        {
          "output_type": "execute_result",
          "data": {
            "text/plain": [
              "<tensorflow.python.keras.callbacks.History at 0x7f24f021d748>"
            ]
          },
          "metadata": {
            "tags": []
          },
          "execution_count": 19
        }
      ]
    },
    {
      "cell_type": "code",
      "metadata": {
        "id": "XAB2SYpJDhYx",
        "colab_type": "code",
        "colab": {}
      },
      "source": [
        "def cal_res(pred,test):\n",
        "  res = 0.\n",
        "  for i in range(len(pred)):\n",
        "     res += abs((pred[i]-test[i]))\n",
        "  return res / len(pred)"
      ],
      "execution_count": 0,
      "outputs": []
    },
    {
      "cell_type": "code",
      "metadata": {
        "id": "f9NKjyzpF4je",
        "colab_type": "code",
        "outputId": "c1b673c0-d09c-4b2f-dfe6-77e318a851c5",
        "colab": {
          "base_uri": "https://localhost:8080/",
          "height": 125
        }
      },
      "source": [
        "testX, _ = convert_to_timeseries(pd.concat([X_train.tail(144*3+12),train['Y00'].tail(144*3+12)],axis=1), interval = 12)\n",
        "y_pred = pd.DataFrame(simple_lstm_model.predict(testX))\n",
        "cor_test = pd.concat([y_pred, train['Y18'].tail(144*3).reset_index(drop=True)],ignore_index=True,axis=1).corr()\n",
        "print(cor_test)\n",
        "#cor = cor_test.corr()\n",
        "#print(cor)\n",
        "\n",
        "#testY = np.array(testY)\n",
        "'''\n",
        "print(y_pred)\n",
        "print(testY)\n",
        "\n",
        "\n",
        "plt.figure(figsize=(15,10))\n",
        "plt.plot(y_pred)\n",
        "plt.plot(testY)\n",
        "plt.legend(['pred','test'])\n",
        "\n",
        "print(cal_res(y_pred,testY))\n",
        "'''"
      ],
      "execution_count": 0,
      "outputs": [
        {
          "output_type": "stream",
          "text": [
            "100%|██████████| 432/432 [00:00<00:00, 2301.21it/s]\n"
          ],
          "name": "stderr"
        },
        {
          "output_type": "stream",
          "text": [
            "          0         1\n",
            "0  1.000000  0.915008\n",
            "1  0.915008  1.000000\n"
          ],
          "name": "stdout"
        },
        {
          "output_type": "execute_result",
          "data": {
            "text/plain": [
              "\"\\nprint(y_pred)\\nprint(testY)\\n\\n\\nplt.figure(figsize=(15,10))\\nplt.plot(y_pred)\\nplt.plot(testY)\\nplt.legend(['pred','test'])\\n\\nprint(cal_res(y_pred,testY))\\n\""
            ]
          },
          "metadata": {
            "tags": []
          },
          "execution_count": 21
        }
      ]
    },
    {
      "cell_type": "code",
      "metadata": {
        "id": "P-UQrxKdQXi7",
        "colab_type": "code",
        "colab": {}
      },
      "source": [
        "testY = train['Y16']\n",
        "plt.figure(figsize=(15,10))\n",
        "plt.plot(testY)\n",
        "plt.legend(['test'])"
      ],
      "execution_count": 0,
      "outputs": []
    },
    {
      "cell_type": "code",
      "metadata": {
        "id": "ihGescAa6YtT",
        "colab_type": "code",
        "outputId": "17250d11-043f-4d48-bdce-d7dbf7555473",
        "colab": {
          "base_uri": "https://localhost:8080/",
          "height": 52
        }
      },
      "source": [
        "\n",
        "\n",
        "# convert_to_timeseries 함수를 쓰기 위한 dummy feature 생성\n",
        "X_train['dummy'] = 0\n",
        "# train set에서 도출된 평균과 표준편차로 standardization 실시 \n",
        "test = (test - MEAN) / (STD + 1e-07)\n",
        "# convert_to_timeseries 함수를 쓰기 위한 dummy feature 생성\n",
        "test['dummy'] = 0\n",
        "# train과 test 기간을 합쳐서 120분 간격으로 학습데이터 재구축\n",
        "X_test, _ = convert_to_timeseries(pd.concat([X_train, test], axis = 0), interval=12)\n",
        "# test set 기간인 후반부 80일에 맞게 자르기 \n",
        "X_test = X_test[-11520:, :, :]\n",
        "# 만들어 두었던 dummy feature 제거\n",
        "X_train.drop('dummy', axis = 1, inplace = True)\n",
        "test.drop('dummy', axis = 1, inplace = True)\n",
        "\n",
        "print(test.shape)"
      ],
      "execution_count": 0,
      "outputs": [
        {
          "output_type": "stream",
          "text": [
            "100%|██████████| 16260/16260 [00:10<00:00, 1570.05it/s]\n"
          ],
          "name": "stderr"
        },
        {
          "output_type": "stream",
          "text": [
            "(11520, 8)\n"
          ],
          "name": "stdout"
        }
      ]
    },
    {
      "cell_type": "code",
      "metadata": {
        "id": "TVv7-XuJ6tEs",
        "colab_type": "code",
        "outputId": "622a7733-157d-4a17-8faa-383e28bb4f59",
        "colab": {
          "base_uri": "https://localhost:8080/",
          "height": 34
        }
      },
      "source": [
        "# LSTM 레이어는 고정\n",
        "simple_lstm_model.layers[0].trainable = False\n",
        "# fine tuning 할 때 사용할 학습데이터 생성 (Y18)\n",
        "finetune_X, finetune_y = convert_to_timeseries(pd.concat([X_train.tail(432), train['Y18'].tail(432)], axis = 1), interval=12)\n",
        "\n",
        "# LSTM 레이어는 고정 시켜두고, DNN 레이어에 대해서 fine tuning 진행 (Transfer Learning)\n",
        "finetune_history = simple_lstm_model.fit(\n",
        "            finetune_X, finetune_y,\n",
        "            epochs=200,\n",
        "            batch_size=64,\n",
        "            shuffle=False,\n",
        "            verbose = 0)\n",
        "\n"
      ],
      "execution_count": 0,
      "outputs": [
        {
          "output_type": "stream",
          "text": [
            "100%|██████████| 420/420 [00:00<00:00, 1878.25it/s]\n"
          ],
          "name": "stderr"
        }
      ]
    },
    {
      "cell_type": "code",
      "metadata": {
        "id": "iskkehcWCX4G",
        "colab_type": "code",
        "outputId": "660b182e-3543-42fd-9382-b0fa12db35d0",
        "colab": {
          "base_uri": "https://localhost:8080/",
          "height": 72
        }
      },
      "source": [
        "# 예측하기 \n",
        "print(X_test.shape)\n",
        "finetune_pred = simple_lstm_model.predict(X_test)\n",
        "\n",
        "# 제출 파일 만들기\n",
        "submit = pd.DataFrame({'id':range(144*33, 144*113),\n",
        "              'Y18':finetune_pred.reshape(1,-1)[0]})\n",
        "\n",
        "#print(submit)\n",
        "\n",
        "\n",
        "csvName = \"result\"\n",
        "\n",
        "a = 0\n",
        "\"\"\"\n",
        "while(True):\n",
        "  try :\n",
        "    submit.to_csv(csvName+str(a)+'.csv', index = False)\n",
        "    files.download(csvName+str(a)+'.csv')\n",
        "    break\n",
        "  except MessageError:\n",
        "    a = a + 1\n",
        "\"\"\"\n"
      ],
      "execution_count": 0,
      "outputs": [
        {
          "output_type": "stream",
          "text": [
            "(11520, 12, 8)\n"
          ],
          "name": "stdout"
        },
        {
          "output_type": "execute_result",
          "data": {
            "text/plain": [
              "\"\\nwhile(True):\\n  try :\\n    submit.to_csv(csvName+str(a)+'.csv', index = False)\\n    files.download(csvName+str(a)+'.csv')\\n    break\\n  except MessageError:\\n    a = a + 1\\n\""
            ]
          },
          "metadata": {
            "tags": []
          },
          "execution_count": 25
        }
      ]
    },
    {
      "cell_type": "code",
      "metadata": {
        "id": "vMik36yDNqlM",
        "colab_type": "code",
        "colab": {}
      },
      "source": [
        "\n",
        "acc = tf.keras.metrics.Accuracy(\n",
        "    name='accuracy', dtype=None\n",
        ")\n",
        "testY = np.array(testY)\n",
        "\n",
        "plt.figure(figsize=(15,10))\n",
        "plt.plot(testY)\n",
        "plt.legend(['test'])"
      ],
      "execution_count": 0,
      "outputs": []
    }
  ]
}